{
 "cells": [
  {
   "cell_type": "code",
   "execution_count": 1,
   "metadata": {},
   "outputs": [],
   "source": [
    "import sys\n",
    "sys.path.append(\"../src\")\n",
    "\n",
    "from dataloaders import ECGDataset\n",
    "\n",
    "# Example of usage\n",
    "path = '../data/physionet.org/files/ptb-xl/1.0.2/'\n",
    "sampling_rate = 100  # or other value depending on your data\n",
    "\n",
    "\n"
   ]
  },
  {
   "cell_type": "code",
   "execution_count": 2,
   "metadata": {},
   "outputs": [
    {
     "name": "stdout",
     "output_type": "stream",
     "text": [
      "[INFO] Obtaining diagnostic_superclass ...\n"
     ]
    }
   ],
   "source": [
    "import pandas as pd\n",
    "import ast\n",
    "import wfdb\n",
    "import numpy as np\n",
    "\n",
    "def aggregate_diagnostic(y_dic) -> list:\n",
    "    tmp = []\n",
    "    for key in y_dic.keys():\n",
    "        if key in agg_df.index:\n",
    "            tmp.append(agg_df.loc[key].diagnostic_class)\n",
    "    return list(set(tmp))\n",
    "\n",
    "def load_raw_data(df: pd.DataFrame, sampling_rate: int, path: str) -> np.array:\n",
    "    if sampling_rate == 100:\n",
    "        data = [wfdb.rdsamp(path+f) for f in df.filename_lr]\n",
    "    else:\n",
    "        data = [wfdb.rdsamp(path+f) for f in df.filename_hr]\n",
    "    return np.array([signal for signal, meta in data])\n",
    "\n",
    "\n",
    "Y = pd.read_csv(path + 'ptbxl_database.csv', index_col='ecg_id')\n",
    "Y.scp_codes = Y.scp_codes.apply(lambda x: ast.literal_eval(x))\n",
    "\n",
    "agg_df = pd.read_csv(path + 'scp_statements.csv', index_col=0)\n",
    "agg_df = agg_df[agg_df.diagnostic == 1]\n",
    "\n",
    "print(\"[INFO] Obtaining diagnostic_superclass ...\")\n",
    "Y['diagnostic_superclass'] = Y.scp_codes.apply(aggregate_diagnostic)\n",
    "\n",
    "super_classes = [x[0] if len(x) > 0 else '' for x in Y['diagnostic_superclass'].values.tolist()]\n",
    "unique_superclasses = list(set(super_classes))\n",
    "\n",
    "X = load_raw_data(Y, sampling_rate, path)\n",
    "\n",
    "# # take all the samples that are in the take_folds\n",
    "# X = X[np.isin(Y.strat_fold.values, take_folds)]\n",
    "# super_classes = [x for i, x in enumerate(super_classes) if Y.strat_fold.values[i] in take_folds]"
   ]
  },
  {
   "cell_type": "code",
   "execution_count": 3,
   "metadata": {},
   "outputs": [],
   "source": [
    "\n",
    "# save X and super_classes to \"data_dumps/sr100\" as numpy objects\n",
    "import numpy as np\n",
    "\n",
    "\n",
    "for fold in range(1,11):\n",
    "    \n",
    "    X_fold = X[np.isin(Y.strat_fold.values, [fold])].copy()\n",
    "    super_classes_fold = [x for i, x in enumerate(super_classes) if Y.strat_fold.values[i] in [fold]]\n",
    "    \n",
    "    np.save(f'../data/data_dumps/sr100/X_fold_{fold}.npy', X_fold)\n",
    "    np.save(f'../data/data_dumps/sr100/superclasses_{fold}.npy', super_classes_fold)\n",
    "    "
   ]
  },
  {
   "cell_type": "code",
   "execution_count": null,
   "metadata": {},
   "outputs": [],
   "source": []
  }
 ],
 "metadata": {
  "kernelspec": {
   "display_name": "torch-env",
   "language": "python",
   "name": "python3"
  },
  "language_info": {
   "codemirror_mode": {
    "name": "ipython",
    "version": 3
   },
   "file_extension": ".py",
   "mimetype": "text/x-python",
   "name": "python",
   "nbconvert_exporter": "python",
   "pygments_lexer": "ipython3",
   "version": "3.9.16"
  },
  "orig_nbformat": 4
 },
 "nbformat": 4,
 "nbformat_minor": 2
}
