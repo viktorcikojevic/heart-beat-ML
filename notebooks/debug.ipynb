{
 "cells": [
  {
   "cell_type": "code",
   "execution_count": 1,
   "metadata": {},
   "outputs": [],
   "source": [
    "import sys\n",
    "sys.path.append(\"../tools\")\n",
    "\n",
    "from dataloaders import encode_label, decode_label\n",
    "\n"
   ]
  },
  {
   "cell_type": "code",
   "execution_count": 2,
   "metadata": {},
   "outputs": [
    {
     "name": "stdout",
     "output_type": "stream",
     "text": [
      "[1, 1, 0]\n",
      "[1, 0, 1]\n",
      "[0, 0, 0]\n"
     ]
    }
   ],
   "source": [
    "unique_classes = [\"a\", \"b\", \"c\"]\n",
    "classes = [\"a\", \"b\"]\n",
    "\n",
    "encoded = encode_label(classes, unique_classes)\n",
    "print(encoded)\n",
    "\n",
    "\n",
    "unique_classes = [\"a\", \"b\", \"c\"]\n",
    "classes = [\"a\", \"c\"]\n",
    "\n",
    "encoded = encode_label(classes, unique_classes)\n",
    "print(encoded)\n",
    "\n",
    "unique_classes = [\"a\", \"b\", \"c\"]\n",
    "classes = [\"\"]\n",
    "\n",
    "encoded = encode_label(classes, unique_classes)\n",
    "print(encoded)"
   ]
  },
  {
   "cell_type": "code",
   "execution_count": 3,
   "metadata": {},
   "outputs": [
    {
     "name": "stdout",
     "output_type": "stream",
     "text": [
      "['a']\n",
      "['a', 'b']\n",
      "['']\n"
     ]
    }
   ],
   "source": [
    "unique_classes = [\"a\", \"b\", \"c\"]\n",
    "\n",
    "\n",
    "decoded = decode_label([1, 0, 0], unique_classes)\n",
    "print(decoded)\n",
    "\n",
    "\n",
    "decoded = decode_label([1, 1, 0], unique_classes)\n",
    "print(decoded)\n",
    "\n",
    "\n",
    "decoded = decode_label([0, 0, 0], unique_classes)\n",
    "print(decoded)"
   ]
  },
  {
   "cell_type": "code",
   "execution_count": 1,
   "metadata": {},
   "outputs": [
    {
     "name": "stdout",
     "output_type": "stream",
     "text": [
      "[INFO] Loading data...\n",
      "[INFO] Obtaining diagnostic_superclass ...\n"
     ]
    }
   ],
   "source": [
    "import sys\n",
    "sys.path.append(\"../tools\")\n",
    "\n",
    "from dataloaders import ECGDataset\n",
    "\n",
    "# Example of usage\n",
    "path = '../data/physionet.org/files/ptb-xl/1.0.2/'\n",
    "sampling_rate = 100  # or other value depending on your data\n",
    "\n",
    "dataset = ECGDataset(path, sampling_rate)\n"
   ]
  },
  {
   "cell_type": "code",
   "execution_count": 7,
   "metadata": {},
   "outputs": [
    {
     "name": "stdout",
     "output_type": "stream",
     "text": [
      "21801\n",
      "{'x': tensor([[-1.1054, -0.6696,  1.1030,  ..., -0.2296, -0.4310, -0.7831],\n",
      "        [-1.0778, -0.6215,  1.1200,  ..., -0.2820, -0.3749, -0.7341],\n",
      "        [-1.1145, -0.5374,  1.3073,  ..., -0.2506, -0.3189, -0.6850],\n",
      "        ...,\n",
      "        [ 0.6191, -0.0087, -1.1616,  ...,  0.2944, -0.4534, -0.5771],\n",
      "        [ 0.7750,  0.0394, -1.3660,  ...,  2.5792, -0.5094, -0.9695],\n",
      "        [ 0.1880, -0.3812, -0.9062,  ...,  1.5416, -0.3861, -1.1853]]), 'classes': ['NORM'], 'y': tensor([0, 1, 0, 0, 0, 0])}\n"
     ]
    }
   ],
   "source": [
    "print(len(dataset))\n",
    "print(dataset[0])\n"
   ]
  },
  {
   "cell_type": "code",
   "execution_count": 10,
   "metadata": {},
   "outputs": [
    {
     "data": {
      "text/plain": [
       "(torch.Size([1000, 12]), torch.Size([6]))"
      ]
     },
     "execution_count": 10,
     "metadata": {},
     "output_type": "execute_result"
    }
   ],
   "source": [
    "dataset[0]['x'].shape, dataset[0]['y'].shape"
   ]
  }
 ],
 "metadata": {
  "kernelspec": {
   "display_name": "torch-env",
   "language": "python",
   "name": "python3"
  },
  "language_info": {
   "codemirror_mode": {
    "name": "ipython",
    "version": 3
   },
   "file_extension": ".py",
   "mimetype": "text/x-python",
   "name": "python",
   "nbconvert_exporter": "python",
   "pygments_lexer": "ipython3",
   "version": "3.9.16"
  },
  "orig_nbformat": 4
 },
 "nbformat": 4,
 "nbformat_minor": 2
}
