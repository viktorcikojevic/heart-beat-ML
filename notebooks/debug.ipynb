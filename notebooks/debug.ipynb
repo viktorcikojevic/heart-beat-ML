{
 "cells": [
  {
   "cell_type": "markdown",
   "metadata": {},
   "source": [
    "# dataloaders.py"
   ]
  },
  {
   "cell_type": "code",
   "execution_count": 1,
   "metadata": {},
   "outputs": [],
   "source": [
    "import sys\n",
    "sys.path.append(\"../src\")\n",
    "\n",
    "from dataloaders import encode_label, decode_label\n",
    "\n"
   ]
  },
  {
   "cell_type": "code",
   "execution_count": 2,
   "metadata": {},
   "outputs": [
    {
     "name": "stdout",
     "output_type": "stream",
     "text": [
      "[1, 1, 0]\n",
      "[1, 0, 1]\n",
      "[0, 0, 0]\n"
     ]
    }
   ],
   "source": [
    "unique_classes = [\"a\", \"b\", \"c\"]\n",
    "classes = [\"a\", \"b\"]\n",
    "\n",
    "encoded = encode_label(classes, unique_classes)\n",
    "print(encoded)\n",
    "\n",
    "\n",
    "unique_classes = [\"a\", \"b\", \"c\"]\n",
    "classes = [\"a\", \"c\"]\n",
    "\n",
    "encoded = encode_label(classes, unique_classes)\n",
    "print(encoded)\n",
    "\n",
    "unique_classes = [\"a\", \"b\", \"c\"]\n",
    "classes = [\"\"]\n",
    "\n",
    "encoded = encode_label(classes, unique_classes)\n",
    "print(encoded)"
   ]
  },
  {
   "cell_type": "code",
   "execution_count": 3,
   "metadata": {},
   "outputs": [
    {
     "name": "stdout",
     "output_type": "stream",
     "text": [
      "['a']\n",
      "['a', 'b']\n",
      "['']\n"
     ]
    }
   ],
   "source": [
    "unique_classes = [\"a\", \"b\", \"c\"]\n",
    "\n",
    "\n",
    "decoded = decode_label([1, 0, 0], unique_classes)\n",
    "print(decoded)\n",
    "\n",
    "\n",
    "decoded = decode_label([1, 1, 0], unique_classes)\n",
    "print(decoded)\n",
    "\n",
    "\n",
    "decoded = decode_label([0, 0, 0], unique_classes)\n",
    "print(decoded)"
   ]
  },
  {
   "cell_type": "code",
   "execution_count": 4,
   "metadata": {},
   "outputs": [
    {
     "name": "stdout",
     "output_type": "stream",
     "text": [
      "[INFO] Loading data...\n",
      "[INFO] Obtaining diagnostic_superclass ...\n"
     ]
    }
   ],
   "source": [
    "import sys\n",
    "sys.path.append(\"../src\")\n",
    "\n",
    "from dataloaders import ECGDataset\n",
    "\n",
    "# Example of usage\n",
    "path = '../data/physionet.org/files/ptb-xl/1.0.2/'\n",
    "sampling_rate = 100  # or other value depending on your data\n",
    "\n",
    "dataset = ECGDataset(path, sampling_rate)\n"
   ]
  },
  {
   "cell_type": "code",
   "execution_count": 13,
   "metadata": {},
   "outputs": [
    {
     "name": "stdout",
     "output_type": "stream",
     "text": [
      "17420\n",
      "245 757\n",
      "{'x': tensor([[-0.0720, -0.0340,  0.0380,  ..., -0.0100, -0.0190,  0.0230],\n",
      "        [-0.0560,  0.0180,  0.0750,  ..., -0.0150, -0.0210,  0.0200],\n",
      "        [-0.0640,  0.0090,  0.0730,  ..., -0.0220, -0.0190,  0.0170],\n",
      "        ...,\n",
      "        [-0.0340, -0.0740, -0.0400,  ..., -0.0580, -0.0350, -0.0430],\n",
      "        [-0.0180, -0.0560, -0.0380,  ..., -0.0400, -0.0260, -0.0360],\n",
      "        [-0.0150, -0.0350, -0.0200,  ..., -0.0460, -0.0220, -0.0300]]), 'y_decoded': ['NORM'], 'y': tensor([0, 0, 0, 0, 1, 0])}\n"
     ]
    }
   ],
   "source": [
    "print(len(dataset))\n",
    "print(dataset[0])\n"
   ]
  },
  {
   "cell_type": "code",
   "execution_count": 6,
   "metadata": {},
   "outputs": [
    {
     "name": "stdout",
     "output_type": "stream",
     "text": [
      "22 534\n",
      "442 954\n"
     ]
    },
    {
     "data": {
      "text/plain": [
       "(torch.Size([512, 12]), torch.Size([6]))"
      ]
     },
     "execution_count": 6,
     "metadata": {},
     "output_type": "execute_result"
    }
   ],
   "source": [
    "dataset[0]['x'].shape, dataset[0]['y'].shape"
   ]
  },
  {
   "cell_type": "code",
   "execution_count": 1,
   "metadata": {},
   "outputs": [
    {
     "name": "stdout",
     "output_type": "stream",
     "text": [
      "[INFO] Loading data...\n"
     ]
    }
   ],
   "source": [
    "import sys\n",
    "sys.path.append(\"../src\")\n",
    "\n",
    "from dataloaders import ECGDataset\n",
    "\n",
    "ds_train = ECGDataset(\n",
    "        \"../data/data_dumps/sr100/\",\n",
    "        mode=\"train\",\n",
    "        L=128,\n",
    "        test_folds=[9],\n",
    "    )"
   ]
  },
  {
   "cell_type": "code",
   "execution_count": 2,
   "metadata": {},
   "outputs": [
    {
     "data": {
      "text/plain": [
       "((19618, 1000, 12), (19618,))"
      ]
     },
     "execution_count": 2,
     "metadata": {},
     "output_type": "execute_result"
    }
   ],
   "source": [
    "ds_train.X.shape, ds_train.super_classes.shape"
   ]
  },
  {
   "cell_type": "code",
   "execution_count": 5,
   "metadata": {},
   "outputs": [
    {
     "data": {
      "text/plain": [
       "array([ 1,  2,  3,  4,  5,  6,  7,  8,  9, 10])"
      ]
     },
     "execution_count": 5,
     "metadata": {},
     "output_type": "execute_result"
    }
   ],
   "source": [
    "import numpy as np\n",
    "\n",
    "np.arange(1,11)"
   ]
  },
  {
   "cell_type": "code",
   "execution_count": 14,
   "metadata": {},
   "outputs": [
    {
     "name": "stdout",
     "output_type": "stream",
     "text": [
      "19719246447    976709559704\n",
      "\n",
      "\n",
      "349248 \n",
      "76065294 \n",
      " 861 \n",
      "577482321806 \n",
      "\n",
      " 246243833994\n",
      "  758755460\n",
      "\n",
      "47\n",
      "180234    972559746\n",
      "\n",
      "\n",
      "692\n",
      "torch.Size([2, 512, 12]) torch.Size([2, 6])\n",
      "tensor([0, 0, 0, 0, 1, 0])\n"
     ]
    }
   ],
   "source": [
    "from torch.utils.data import DataLoader\n",
    "\n",
    "\n",
    "# Create a DataLoader\n",
    "batch_size = 2\n",
    "\n",
    "\n",
    "dataloader = DataLoader(dataset, batch_size=batch_size, shuffle=True)\n",
    "\n",
    "# Using the DataLoader in a training loop\n",
    "for batch in dataloader:\n",
    "    print(batch['x'].shape, batch['y'].shape)\n",
    "    print(batch['y'][0])\n",
    "    break"
   ]
  },
  {
   "cell_type": "code",
   "execution_count": 12,
   "metadata": {},
   "outputs": [
    {
     "data": {
      "text/plain": [
       "[<matplotlib.lines.Line2D at 0x7ff4f38f6b50>]"
      ]
     },
     "execution_count": 12,
     "metadata": {},
     "output_type": "execute_result"
    },
    {
     "data": {
      "image/png": "[encoded data removed]",
      "text/plain": [
       "<Figure size 640x480 with 1 Axes>"
      ]
     },
     "metadata": {},
     "output_type": "display_data"
    }
   ],
   "source": [
    "import matplotlib.pyplot as plt\n",
    "\n",
    "x = batch['x'][0]\n",
    "plt.plot(x[:, 0])"
   ]
  },
  {
   "cell_type": "markdown",
   "metadata": {},
   "source": [
    "# augmentations"
   ]
  },
  {
   "cell_type": "code",
   "execution_count": null,
   "metadata": {},
   "outputs": [],
   "source": []
  },
  {
   "cell_type": "markdown",
   "metadata": {},
   "source": [
    "# models.py"
   ]
  },
  {
   "cell_type": "code",
   "execution_count": 1,
   "metadata": {},
   "outputs": [],
   "source": [
    "import sys\n",
    "sys.path.append(\"../src\")\n",
    "\n",
    "\n",
    "from models import SinusoidalPosEmb\n",
    "\n",
    "\n"
   ]
  },
  {
   "cell_type": "code",
   "execution_count": 3,
   "metadata": {},
   "outputs": [
    {
     "name": "stdout",
     "output_type": "stream",
     "text": [
      "torch.Size([1, 1000, 16])\n",
      "torch.Size([1, 1000, 12, 16])\n",
      "torch.Size([1, 1000, 192])\n"
     ]
    }
   ],
   "source": [
    "import torch\n",
    "\n",
    "pos_emb = SinusoidalPosEmb(dim=16)\n",
    "\n",
    "x = torch.randn(1, 1000)\n",
    "print(pos_emb(x).shape)\n",
    "\n",
    "x = torch.randn(1, 1000, 12)\n",
    "y = pos_emb(x) # (B, T, C) -> (B, T, C, 16)\n",
    "print(y.shape)\n",
    "# convert to (B, T, 16*C)\n",
    "y = y.flatten(-2)\n",
    "print(y.shape)\n",
    "\n",
    "# 16*12 -> 192\n"
   ]
  },
  {
   "cell_type": "code",
   "execution_count": 4,
   "metadata": {},
   "outputs": [
    {
     "name": "stdout",
     "output_type": "stream",
     "text": [
      "627 755\n",
      "torch.Size([2, 128, 384])\n"
     ]
    }
   ],
   "source": [
    "import sys\n",
    "sys.path.append(\"../src\")\n",
    "from models import Extractor\n",
    "import torch\n",
    "\n",
    "extractor = Extractor(dim_base=128, dim=384)\n",
    "\n",
    "x = torch.randn(2, 1000, 12)\n",
    "y = extractor(x, Lmax=128)\n",
    "print(y.shape)\n"
   ]
  },
  {
   "cell_type": "code",
   "execution_count": 2,
   "metadata": {},
   "outputs": [
    {
     "name": "stdout",
     "output_type": "stream",
     "text": [
      "torch.Size([2, 5])\n"
     ]
    }
   ],
   "source": [
    "import sys\n",
    "sys.path.append(\"../src\")\n",
    "from models import DeepHeartModel\n",
    "import torch\n",
    "\n",
    "model = DeepHeartModel()\n",
    "\n",
    "x = torch.randn(2, 512, 12)\n",
    "y = model(x)\n",
    "print(y.shape)\n"
   ]
  },
  {
   "cell_type": "code",
   "execution_count": 3,
   "metadata": {},
   "outputs": [
    {
     "name": "stdout",
     "output_type": "stream",
     "text": [
      "129 ms ± 5.3 ms per loop (mean ± std. dev. of 7 runs, 10 loops each)\n"
     ]
    }
   ],
   "source": [
    "%timeit y = model(x)"
   ]
  }
 ],
 "metadata": {
  "kernelspec": {
   "display_name": "torch-env",
   "language": "python",
   "name": "python3"
  },
  "language_info": {
   "codemirror_mode": {
    "name": "ipython",
    "version": 3
   },
   "file_extension": ".py",
   "mimetype": "text/x-python",
   "name": "python",
   "nbconvert_exporter": "python",
   "pygments_lexer": "ipython3",
   "version": "3.9.16"
  },
  "orig_nbformat": 4
 },
 "nbformat": 4,
 "nbformat_minor": 2
}
